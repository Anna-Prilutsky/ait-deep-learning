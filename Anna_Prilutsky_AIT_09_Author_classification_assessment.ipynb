{
  "nbformat": 4,
  "nbformat_minor": 0,
  "metadata": {
    "kernelspec": {
      "display_name": "Python 3",
      "language": "python",
      "name": "python3"
    },
    "language_info": {
      "codemirror_mode": {
        "name": "ipython",
        "version": 3
      },
      "file_extension": ".py",
      "mimetype": "text/x-python",
      "name": "python",
      "nbconvert_exporter": "python",
      "pygments_lexer": "ipython3",
      "version": "3.6.6"
    },
    "colab": {
      "provenance": [],
      "collapsed_sections": [
        "_jiGtJu6u9ml",
        "lL1Mc8ibHnep",
        "hA8U9tr7HrNQ",
        "hWFb-nAMHuAI",
        "0omw2XzSHwOo",
        "4Y73Q-h5Hz1r"
      ],
      "include_colab_link": true
    }
  },
  "cells": [
    {
      "cell_type": "markdown",
      "metadata": {
        "id": "view-in-github",
        "colab_type": "text"
      },
      "source": [
        "<a href=\"https://colab.research.google.com/github/Anna-Prilutsky/ait-deep-learning/blob/main/Anna_Prilutsky_AIT_09_Author_classification_assessment.ipynb\" target=\"_parent\"><img src=\"https://colab.research.google.com/assets/colab-badge.svg\" alt=\"Open In Colab\"/></a>"
      ]
    },
    {
      "cell_type": "markdown",
      "metadata": {
        "id": "_jiGtJu6u9ml"
      },
      "source": [
        "# Copyright\n",
        "\n",
        "<PRE>\n",
        "Copyright (c) 2023 Bálint Gyires-Tóth - All Rights Reserved\n",
        "You may use and modify this code for research and development purpuses.\n",
        "Use this code for educational purposes (self-paced or instructor led) without the permission of the author is prohibited.\n",
        "</PRE>"
      ]
    },
    {
      "cell_type": "markdown",
      "metadata": {
        "id": "oXyFC44jV-PP"
      },
      "source": [
        "# Author classification\n",
        "The task is to train a 1D CNN or an LSTM that is able to  classify text from two authors. The final model should be able to tell about a text with a given length (e.g. 60 characters) who wrote it. \n",
        "\n",
        "Please write the codes according to the following parts:"
      ]
    },
    {
      "cell_type": "markdown",
      "metadata": {
        "id": "jCnLoeGrHXsp"
      },
      "source": [
        "## Python module imports\n",
        "Import all Python modules that you would need during the Assignment."
      ]
    },
    {
      "cell_type": "code",
      "metadata": {
        "id": "7itbFGt3HXVT"
      },
      "source": [
        "import numpy as np\n",
        "import math\n",
        "import pandas as pd\n",
        "from matplotlib import pyplot as plt\n",
        "import seaborn as sns\n",
        "import io\n",
        "\n",
        "from tensorflow.keras.models import Sequential\n",
        "from tensorflow.keras.utils import to_categorical\n",
        "from tensorflow.keras.layers import Activation, Dense, Flatten, Conv1D, MaxPooling1D, Dropout\n",
        "from tensorflow.keras.callbacks import EarlyStopping\n",
        "from tensorflow.keras.optimizers import SGD\n"
      ],
      "execution_count": 60,
      "outputs": []
    },
    {
      "cell_type": "code",
      "source": [
        "!wget https://www.gutenberg.org/files/1514/1514-0.txt https://www.gutenberg.org/cache/epub/64317/pg64317.txt"
      ],
      "metadata": {
        "colab": {
          "base_uri": "https://localhost:8080/"
        },
        "id": "vCzvmg-T6rdq",
        "outputId": "8c46b68c-5daa-4ed7-82f8-58692c05711f"
      },
      "execution_count": 5,
      "outputs": [
        {
          "output_type": "stream",
          "name": "stdout",
          "text": [
            "--2023-04-17 18:34:21--  https://www.gutenberg.org/files/1514/1514-0.txt\n",
            "Resolving www.gutenberg.org (www.gutenberg.org)... 152.19.134.47, 2610:28:3090:3000:0:bad:cafe:47\n",
            "Connecting to www.gutenberg.org (www.gutenberg.org)|152.19.134.47|:443... connected.\n",
            "HTTP request sent, awaiting response... 200 OK\n",
            "Length: 120868 (118K) [text/plain]\n",
            "Saving to: ‘1514-0.txt’\n",
            "\n",
            "1514-0.txt          100%[===================>] 118.04K   595KB/s    in 0.2s    \n",
            "\n",
            "2023-04-17 18:34:22 (595 KB/s) - ‘1514-0.txt’ saved [120868/120868]\n",
            "\n",
            "--2023-04-17 18:34:22--  https://www.gutenberg.org/cache/epub/64317/pg64317.txt\n",
            "Reusing existing connection to www.gutenberg.org:443.\n",
            "HTTP request sent, awaiting response... 200 OK\n",
            "Length: 306227 (299K) [text/plain]\n",
            "Saving to: ‘pg64317.txt’\n",
            "\n",
            "pg64317.txt         100%[===================>] 299.05K  --.-KB/s    in 0.07s   \n",
            "\n",
            "2023-04-17 18:34:22 (4.39 MB/s) - ‘pg64317.txt’ saved [306227/306227]\n",
            "\n",
            "FINISHED --2023-04-17 18:34:22--\n",
            "Total wall clock time: 1.3s\n",
            "Downloaded: 2 files, 417K in 0.3s (1.54 MB/s)\n"
          ]
        }
      ]
    },
    {
      "cell_type": "markdown",
      "metadata": {
        "id": "Hr617tEpHd8R"
      },
      "source": [
        "## Data acquisition\n",
        "Seek a possible dataset, you can use any source, e.g.\n",
        "* http://www.gutenberg.org/\n",
        "* https://www.kaggle.com/datasets\n",
        "* https://paperswithcode.com/datasets\n",
        "* if you would like to learn Hungarian, than e.g. https://mek.oszk.hu/\n",
        "\n",
        "You can download the text by hand (e.g. by copy-pasting some parts into txt files) or with Python. "
      ]
    },
    {
      "cell_type": "code",
      "metadata": {
        "id": "NgkdQxHqHdZB"
      },
      "source": [
        "book1 = \"/content/1514-0.txt\"\n",
        "book2 = \"/content/pg64317.txt\" \n",
        "file1 = open(book1, mode='r', encoding='utf-8-sig')\n",
        "file2 = open(book2, mode='r', encoding='utf-8-sig')\n",
        "book1Content = file1.read() #string\n",
        "book2Content = file2.read() #string\n",
        "\n"
      ],
      "execution_count": 24,
      "outputs": []
    },
    {
      "cell_type": "code",
      "source": [],
      "metadata": {
        "id": "gEZfn-tZvREt"
      },
      "execution_count": null,
      "outputs": []
    },
    {
      "cell_type": "markdown",
      "source": [
        "## Data analysis\n",
        "Count the number of characters from both authors and display them on a plot (e.g. Seaborn's countplot)."
      ],
      "metadata": {
        "id": "U9Pmq91t3SRD"
      }
    },
    {
      "cell_type": "code",
      "source": [
        "print(\"Character Length of Shakespeare's text: \" + str(len(book1Content)))\n",
        "print(\"Character Length of Fitzgeralds text: \" + str(len(book2Content)))\n",
        "\n",
        "data = {'Shakespeare': len(book1Content), 'Fitzgerald':len(book2Content)}\n",
        "courses = list(data.keys())\n",
        "values = list(data.values())\n",
        "fig = plt.figure(figsize = (3, 3))\n",
        "plt.bar(courses, values, color ='maroon',\n",
        "        width = 0.2)\n",
        "plt.xlabel(\"Book Authors\")\n",
        "plt.ylabel(\"No. characters in book\")\n",
        "plt.show()\n",
        "\n",
        "alphabet_length1= len(set(str.lower(book1Content)))\n",
        "print(alphabet_length1)"
      ],
      "metadata": {
        "id": "uRqGdn4F3Spk",
        "colab": {
          "base_uri": "https://localhost:8080/",
          "height": 365
        },
        "outputId": "7c5e8060-8936-430a-8dd1-be5eed2e9024"
      },
      "execution_count": 21,
      "outputs": [
        {
          "output_type": "stream",
          "name": "stdout",
          "text": [
            "Character Length of Shakespeare's text: 116065\n",
            "Character Length of Fitzgeralds text: 289901\n"
          ]
        },
        {
          "output_type": "display_data",
          "data": {
            "text/plain": [
              "<Figure size 300x300 with 1 Axes>"
            ],
            "image/png": "[encoded data removed]"
          },
          "metadata": {}
        },
        {
          "output_type": "stream",
          "name": "stdout",
          "text": [
            "63\n"
          ]
        }
      ]
    },
    {
      "cell_type": "markdown",
      "metadata": {
        "id": "cHyE_ndGIblJ"
      },
      "source": [
        "## Data loading, labeling and preprocessing\n",
        "Load the data and convert the characters into one-hot encodings. Then load the data into a 3D NumPy array, with a shape of\n",
        "\n",
        "* (batch, sequence_length, alphabet_length)\n",
        "\n",
        "where sequence_length=60, and alphabet_length equals to the number of unique characters in both datasets. The sequences should be cut out from the complete dataset by sliding window. You should add 0 and 1 labels to the sequences, according to the author. \n",
        "\n",
        "Later you may change sequence_length to achieve better results!"
      ]
    },
    {
      "cell_type": "code",
      "metadata": {
        "id": "arooXt0WIb6x",
        "colab": {
          "base_uri": "https://localhost:8080/"
        },
        "outputId": "db9ccab8-0084-4443-e299-50a141e22375"
      },
      "source": [
        "\n",
        "def createEncoding(book):\n",
        "  sequence_length = 60\n",
        "  alphabet_length = 26     #Just looking at words only!\n",
        "  listA = [*(str.lower(book))]\n",
        "  lenA = len(book)\n",
        "\n",
        "  arrA = np.zeros((0,sequence_length,alphabet_length))\n",
        "  \n",
        "  i = 0\n",
        "  count = 0\n",
        "  while (True):\n",
        "    newRow = np.zeros((sequence_length, alphabet_length))\n",
        "    for j in range(sequence_length):\n",
        "      if (i >= lenA):\n",
        "      # still add existing string\n",
        "        arrA = np.r_[arrA,[newRow]]\n",
        "        print(count)\n",
        "        return arrA\n",
        "      char = listA[i]\n",
        "      index = ord(char) - 97\n",
        "      i = i+1\n",
        "      if index < 0 or index >= alphabet_length:\n",
        "        continue\n",
        "      else:\n",
        "        count = count + 1\n",
        "      newRow[j][index] = 1\n",
        "    arrA = np.r_[arrA,[newRow]]\n",
        "#######\n",
        "\n",
        "arr1 = createEncoding(book1Content)\n",
        "arr2 = createEncoding(book2Content)\n",
        "\n",
        "print(np.shape(arr1)) \n",
        "print(np.shape(arr2)) \n",
        "    \n",
        "\n",
        "\n",
        "#3D NumpPy Array: (batch, sequence_length, alphabet_length)\n",
        "\n",
        "#Convert string into array w. 60 characters long.. \n",
        "#Text of length 60 characters per author."
      ],
      "execution_count": 49,
      "outputs": [
        {
          "output_type": "stream",
          "name": "stdout",
          "text": [
            "87646\n",
            "221798\n",
            "(1935, 60, 26)\n",
            "(4832, 60, 26)\n"
          ]
        }
      ]
    },
    {
      "cell_type": "markdown",
      "metadata": {
        "id": "lL1Mc8ibHnep"
      },
      "source": [
        "## Data splitting\n",
        "Split the data into train, validate and test sets. Make "
      ]
    },
    {
      "cell_type": "code",
      "metadata": {
        "colab": {
          "base_uri": "https://localhost:8080/"
        },
        "outputId": "b3a266de-384c-4699-f8ce-fc217b71f0fd",
        "id": "FE7vqa0Bzrr6"
      },
      "source": [
        "# Extract equal parts of both texts (1200*60 characters from each from the middle of the text)\n",
        "\n",
        "min = 200\n",
        "mid = int(1200 * 0.7 + 200)\n",
        "max = 1400\n",
        "\n",
        "text1_train_X = arr1[min:mid, :, :]\n",
        "text2_train_X = arr2[min:mid, :, :]\n",
        "text1_test_X = arr1[mid:max, :, :]\n",
        "text2_test_X = arr2[mid:max, :, :]\n",
        "\n",
        "X_train = np.concatenate((text1_train_X, text2_train_X), axis=0)\n",
        "X_test = np.concatenate((text1_test_X, text2_test_X), axis=0)\n",
        "\n",
        "Y_train = np.zeros((int(2400*0.7), 2))\n",
        "Y_test = np.zeros((int(2400*0.3), 2))\n",
        "Y_train[0:(int(2400*0.7*0.5)), 0] = 1\n",
        "Y_train[int(2400*0.7*0.5):int(2400*0.7), 1] = 1\n",
        "Y_test[0:(int(2400*0.3*0.5)), 0] = 1\n",
        "Y_test[int(2400*0.3*0.5):int(2400*0.3), 1] = 1\n",
        "\n",
        "#Shuffle the Arrays..\n",
        "from sklearn.utils import shuffle\n",
        "X_train, Y_train = shuffle(X_train, Y_train, random_state=0)\n",
        "\n",
        "print(np.shape(X_train))\n",
        "print(np.shape(Y_train))\n",
        "print(np.shape(X_test))\n",
        "print(np.shape(Y_test))\n",
        "\n",
        "\n"
      ],
      "execution_count": 65,
      "outputs": [
        {
          "output_type": "stream",
          "name": "stdout",
          "text": [
            "(1680, 60, 26)\n",
            "(1680, 2)\n",
            "(720, 60, 26)\n",
            "(720, 2)\n"
          ]
        }
      ]
    },
    {
      "cell_type": "markdown",
      "metadata": {
        "id": "hA8U9tr7HrNQ"
      },
      "source": [
        "## Model definition\n",
        "Define a 1D CNN or an LSTM for the task. Compile the model with the correct loss function."
      ]
    },
    {
      "cell_type": "code",
      "metadata": {
        "id": "BT1V1s4kHuUe"
      },
      "source": [
        "nb_filter       = 42   # number of filter/kernels in the convolutional layers (26?)\n",
        "filter_length   = 4  # length of the filter/kernel in the convolutional layers\n",
        "window_size     = X_train.shape[1] # the window size defined by the dataset\n",
        "nb_features     = X_train.shape[2] # the number of features of the input data\n",
        "nb_outputs      = Y_train.shape[1] # the number of outputs (defined by the target data)\n",
        "\n",
        "model = Sequential()\n",
        "model.add(Conv1D(filters=nb_filter, kernel_size=filter_length, activation='relu', kernel_initializer='glorot_uniform', input_shape=(window_size, nb_features)))\n",
        "model.add(MaxPooling1D())\n",
        "model.add(Dropout(0.5))\n",
        "model.add(Conv1D(filters=nb_filter, kernel_size=filter_length, activation='relu', kernel_initializer='glorot_uniform'))\n",
        "model.add(MaxPooling1D())\n",
        "model.add(Dropout(0.5))\n",
        "model.add(Flatten())\n",
        "model.add(Dense(128, activation='relu'))\n",
        "model.add(Dropout(0.5))\n",
        "model.add(Flatten())\n",
        "model.add(Dense(128, activation='relu'))\n",
        "model.add(Dropout(0.5))\n",
        "model.add(Dense(nb_outputs, activation='softmax'))\n",
        "\n",
        "\n",
        "\n"
      ],
      "execution_count": 80,
      "outputs": []
    },
    {
      "cell_type": "markdown",
      "metadata": {
        "id": "hWFb-nAMHuAI"
      },
      "source": [
        "## Model training\n",
        "Train the model and apply early stopping."
      ]
    },
    {
      "cell_type": "code",
      "metadata": {
        "id": "dvgKjqp3Hwkp",
        "colab": {
          "base_uri": "https://localhost:8080/"
        },
        "outputId": "9af6fdcf-125d-4e98-b698-fcc61a0e14c5"
      },
      "source": [
        "model.compile(loss='categorical_crossentropy', optimizer='adam', metrics=['accuracy'])\n",
        "model.summary()\n",
        "es = EarlyStopping(monitor='val_loss', patience=10, restore_best_weights= True)\n",
        "model.fit(X_train, Y_train, \n",
        "          epochs=128, batch_size=100, \n",
        "          validation_split=0.2, # don't change the validation split\n",
        "          callbacks=[es],\n",
        "          verbose=2)"
      ],
      "execution_count": 81,
      "outputs": [
        {
          "output_type": "stream",
          "name": "stdout",
          "text": [
            "Model: \"sequential_5\"\n",
            "_________________________________________________________________\n",
            " Layer (type)                Output Shape              Param #   \n",
            "=================================================================\n",
            " conv1d_9 (Conv1D)           (None, 57, 42)            4410      \n",
            "                                                                 \n",
            " max_pooling1d_9 (MaxPooling  (None, 28, 42)           0         \n",
            " 1D)                                                             \n",
            "                                                                 \n",
            " dropout_15 (Dropout)        (None, 28, 42)            0         \n",
            "                                                                 \n",
            " conv1d_10 (Conv1D)          (None, 25, 42)            7098      \n",
            "                                                                 \n",
            " max_pooling1d_10 (MaxPoolin  (None, 12, 42)           0         \n",
            " g1D)                                                            \n",
            "                                                                 \n",
            " dropout_16 (Dropout)        (None, 12, 42)            0         \n",
            "                                                                 \n",
            " flatten_6 (Flatten)         (None, 504)               0         \n",
            "                                                                 \n",
            " dense_11 (Dense)            (None, 128)               64640     \n",
            "                                                                 \n",
            " dropout_17 (Dropout)        (None, 128)               0         \n",
            "                                                                 \n",
            " flatten_7 (Flatten)         (None, 128)               0         \n",
            "                                                                 \n",
            " dense_12 (Dense)            (None, 128)               16512     \n",
            "                                                                 \n",
            " dropout_18 (Dropout)        (None, 128)               0         \n",
            "                                                                 \n",
            " dense_13 (Dense)            (None, 2)                 258       \n",
            "                                                                 \n",
            "=================================================================\n",
            "Total params: 92,918\n",
            "Trainable params: 92,918\n",
            "Non-trainable params: 0\n",
            "_________________________________________________________________\n",
            "Epoch 1/128\n",
            "14/14 - 2s - loss: 0.7216 - accuracy: 0.4784 - val_loss: 0.6936 - val_accuracy: 0.4970 - 2s/epoch - 127ms/step\n",
            "Epoch 2/128\n",
            "14/14 - 0s - loss: 0.7034 - accuracy: 0.5022 - val_loss: 0.6941 - val_accuracy: 0.4762 - 365ms/epoch - 26ms/step\n",
            "Epoch 3/128\n",
            "14/14 - 0s - loss: 0.7043 - accuracy: 0.4963 - val_loss: 0.6943 - val_accuracy: 0.4702 - 314ms/epoch - 22ms/step\n",
            "Epoch 4/128\n",
            "14/14 - 0s - loss: 0.6950 - accuracy: 0.5156 - val_loss: 0.6937 - val_accuracy: 0.4762 - 314ms/epoch - 22ms/step\n",
            "Epoch 5/128\n",
            "14/14 - 0s - loss: 0.6972 - accuracy: 0.4963 - val_loss: 0.6938 - val_accuracy: 0.4643 - 311ms/epoch - 22ms/step\n",
            "Epoch 6/128\n",
            "14/14 - 0s - loss: 0.6930 - accuracy: 0.5126 - val_loss: 0.6937 - val_accuracy: 0.4851 - 305ms/epoch - 22ms/step\n",
            "Epoch 7/128\n",
            "14/14 - 0s - loss: 0.6962 - accuracy: 0.5164 - val_loss: 0.6932 - val_accuracy: 0.4881 - 308ms/epoch - 22ms/step\n",
            "Epoch 8/128\n",
            "14/14 - 0s - loss: 0.6969 - accuracy: 0.5141 - val_loss: 0.6930 - val_accuracy: 0.5179 - 336ms/epoch - 24ms/step\n",
            "Epoch 9/128\n",
            "14/14 - 0s - loss: 0.6916 - accuracy: 0.5246 - val_loss: 0.6930 - val_accuracy: 0.5238 - 300ms/epoch - 21ms/step\n",
            "Epoch 10/128\n",
            "14/14 - 0s - loss: 0.6949 - accuracy: 0.5045 - val_loss: 0.6930 - val_accuracy: 0.5000 - 314ms/epoch - 22ms/step\n",
            "Epoch 11/128\n",
            "14/14 - 0s - loss: 0.6934 - accuracy: 0.5141 - val_loss: 0.6926 - val_accuracy: 0.5298 - 325ms/epoch - 23ms/step\n",
            "Epoch 12/128\n",
            "14/14 - 0s - loss: 0.6919 - accuracy: 0.5290 - val_loss: 0.6931 - val_accuracy: 0.4881 - 306ms/epoch - 22ms/step\n",
            "Epoch 13/128\n",
            "14/14 - 0s - loss: 0.6945 - accuracy: 0.5052 - val_loss: 0.6921 - val_accuracy: 0.5685 - 310ms/epoch - 22ms/step\n",
            "Epoch 14/128\n",
            "14/14 - 0s - loss: 0.6937 - accuracy: 0.5305 - val_loss: 0.6921 - val_accuracy: 0.5417 - 354ms/epoch - 25ms/step\n",
            "Epoch 15/128\n",
            "14/14 - 0s - loss: 0.6919 - accuracy: 0.5223 - val_loss: 0.6917 - val_accuracy: 0.5357 - 346ms/epoch - 25ms/step\n",
            "Epoch 16/128\n",
            "14/14 - 0s - loss: 0.6920 - accuracy: 0.5342 - val_loss: 0.6906 - val_accuracy: 0.5804 - 307ms/epoch - 22ms/step\n",
            "Epoch 17/128\n",
            "14/14 - 0s - loss: 0.6922 - accuracy: 0.5201 - val_loss: 0.6903 - val_accuracy: 0.5744 - 313ms/epoch - 22ms/step\n",
            "Epoch 18/128\n",
            "14/14 - 0s - loss: 0.6881 - accuracy: 0.5640 - val_loss: 0.6890 - val_accuracy: 0.5982 - 347ms/epoch - 25ms/step\n",
            "Epoch 19/128\n",
            "14/14 - 0s - loss: 0.6856 - accuracy: 0.5499 - val_loss: 0.6886 - val_accuracy: 0.5685 - 314ms/epoch - 22ms/step\n",
            "Epoch 20/128\n",
            "14/14 - 0s - loss: 0.6846 - accuracy: 0.5580 - val_loss: 0.6860 - val_accuracy: 0.5536 - 361ms/epoch - 26ms/step\n",
            "Epoch 21/128\n",
            "14/14 - 0s - loss: 0.6793 - accuracy: 0.5759 - val_loss: 0.6839 - val_accuracy: 0.5625 - 299ms/epoch - 21ms/step\n",
            "Epoch 22/128\n",
            "14/14 - 0s - loss: 0.6788 - accuracy: 0.5573 - val_loss: 0.6785 - val_accuracy: 0.6280 - 311ms/epoch - 22ms/step\n",
            "Epoch 23/128\n",
            "14/14 - 0s - loss: 0.6707 - accuracy: 0.6057 - val_loss: 0.6693 - val_accuracy: 0.6161 - 321ms/epoch - 23ms/step\n",
            "Epoch 24/128\n",
            "14/14 - 0s - loss: 0.6523 - accuracy: 0.6094 - val_loss: 0.6521 - val_accuracy: 0.6667 - 415ms/epoch - 30ms/step\n",
            "Epoch 25/128\n",
            "14/14 - 1s - loss: 0.6386 - accuracy: 0.6354 - val_loss: 0.6392 - val_accuracy: 0.6488 - 502ms/epoch - 36ms/step\n",
            "Epoch 26/128\n",
            "14/14 - 1s - loss: 0.6166 - accuracy: 0.6540 - val_loss: 0.6132 - val_accuracy: 0.6756 - 548ms/epoch - 39ms/step\n",
            "Epoch 27/128\n",
            "14/14 - 1s - loss: 0.6089 - accuracy: 0.6652 - val_loss: 0.6037 - val_accuracy: 0.6935 - 543ms/epoch - 39ms/step\n",
            "Epoch 28/128\n",
            "14/14 - 1s - loss: 0.5923 - accuracy: 0.6830 - val_loss: 0.5902 - val_accuracy: 0.7173 - 547ms/epoch - 39ms/step\n",
            "Epoch 29/128\n",
            "14/14 - 0s - loss: 0.5679 - accuracy: 0.7158 - val_loss: 0.5948 - val_accuracy: 0.6607 - 432ms/epoch - 31ms/step\n",
            "Epoch 30/128\n",
            "14/14 - 0s - loss: 0.5450 - accuracy: 0.7225 - val_loss: 0.5450 - val_accuracy: 0.7589 - 345ms/epoch - 25ms/step\n",
            "Epoch 31/128\n",
            "14/14 - 0s - loss: 0.5471 - accuracy: 0.7158 - val_loss: 0.5357 - val_accuracy: 0.7857 - 306ms/epoch - 22ms/step\n",
            "Epoch 32/128\n",
            "14/14 - 0s - loss: 0.5215 - accuracy: 0.7463 - val_loss: 0.5198 - val_accuracy: 0.7679 - 308ms/epoch - 22ms/step\n",
            "Epoch 33/128\n",
            "14/14 - 0s - loss: 0.5022 - accuracy: 0.7530 - val_loss: 0.4976 - val_accuracy: 0.7976 - 314ms/epoch - 22ms/step\n",
            "Epoch 34/128\n",
            "14/14 - 0s - loss: 0.4736 - accuracy: 0.7812 - val_loss: 0.4826 - val_accuracy: 0.7976 - 304ms/epoch - 22ms/step\n",
            "Epoch 35/128\n",
            "14/14 - 0s - loss: 0.4752 - accuracy: 0.7805 - val_loss: 0.5089 - val_accuracy: 0.7589 - 303ms/epoch - 22ms/step\n",
            "Epoch 36/128\n",
            "14/14 - 0s - loss: 0.4659 - accuracy: 0.7775 - val_loss: 0.4842 - val_accuracy: 0.7798 - 312ms/epoch - 22ms/step\n",
            "Epoch 37/128\n",
            "14/14 - 0s - loss: 0.4759 - accuracy: 0.7835 - val_loss: 0.4617 - val_accuracy: 0.8065 - 335ms/epoch - 24ms/step\n",
            "Epoch 38/128\n",
            "14/14 - 0s - loss: 0.4349 - accuracy: 0.7984 - val_loss: 0.4511 - val_accuracy: 0.8036 - 307ms/epoch - 22ms/step\n",
            "Epoch 39/128\n",
            "14/14 - 0s - loss: 0.4163 - accuracy: 0.8043 - val_loss: 0.4334 - val_accuracy: 0.8155 - 314ms/epoch - 22ms/step\n",
            "Epoch 40/128\n",
            "14/14 - 0s - loss: 0.4092 - accuracy: 0.8185 - val_loss: 0.4335 - val_accuracy: 0.8155 - 346ms/epoch - 25ms/step\n",
            "Epoch 41/128\n",
            "14/14 - 0s - loss: 0.4089 - accuracy: 0.8080 - val_loss: 0.4204 - val_accuracy: 0.8333 - 305ms/epoch - 22ms/step\n",
            "Epoch 42/128\n",
            "14/14 - 0s - loss: 0.3865 - accuracy: 0.8326 - val_loss: 0.4384 - val_accuracy: 0.8065 - 308ms/epoch - 22ms/step\n",
            "Epoch 43/128\n",
            "14/14 - 0s - loss: 0.3931 - accuracy: 0.8289 - val_loss: 0.4161 - val_accuracy: 0.8363 - 344ms/epoch - 25ms/step\n",
            "Epoch 44/128\n",
            "14/14 - 0s - loss: 0.3838 - accuracy: 0.8378 - val_loss: 0.4075 - val_accuracy: 0.8244 - 305ms/epoch - 22ms/step\n",
            "Epoch 45/128\n",
            "14/14 - 0s - loss: 0.3729 - accuracy: 0.8385 - val_loss: 0.4255 - val_accuracy: 0.7946 - 357ms/epoch - 25ms/step\n",
            "Epoch 46/128\n",
            "14/14 - 0s - loss: 0.3433 - accuracy: 0.8564 - val_loss: 0.4173 - val_accuracy: 0.8036 - 311ms/epoch - 22ms/step\n",
            "Epoch 47/128\n",
            "14/14 - 0s - loss: 0.3534 - accuracy: 0.8415 - val_loss: 0.3854 - val_accuracy: 0.8423 - 300ms/epoch - 21ms/step\n",
            "Epoch 48/128\n",
            "14/14 - 0s - loss: 0.3205 - accuracy: 0.8616 - val_loss: 0.3866 - val_accuracy: 0.8423 - 301ms/epoch - 21ms/step\n",
            "Epoch 49/128\n",
            "14/14 - 0s - loss: 0.3144 - accuracy: 0.8661 - val_loss: 0.3796 - val_accuracy: 0.8542 - 309ms/epoch - 22ms/step\n",
            "Epoch 50/128\n",
            "14/14 - 0s - loss: 0.3165 - accuracy: 0.8616 - val_loss: 0.3865 - val_accuracy: 0.8244 - 342ms/epoch - 24ms/step\n",
            "Epoch 51/128\n",
            "14/14 - 0s - loss: 0.3059 - accuracy: 0.8690 - val_loss: 0.3731 - val_accuracy: 0.8512 - 301ms/epoch - 21ms/step\n",
            "Epoch 52/128\n",
            "14/14 - 0s - loss: 0.2880 - accuracy: 0.8832 - val_loss: 0.3939 - val_accuracy: 0.8155 - 319ms/epoch - 23ms/step\n",
            "Epoch 53/128\n",
            "14/14 - 0s - loss: 0.3023 - accuracy: 0.8750 - val_loss: 0.3790 - val_accuracy: 0.8244 - 339ms/epoch - 24ms/step\n",
            "Epoch 54/128\n",
            "14/14 - 0s - loss: 0.3086 - accuracy: 0.8720 - val_loss: 0.3685 - val_accuracy: 0.8571 - 301ms/epoch - 22ms/step\n",
            "Epoch 55/128\n",
            "14/14 - 0s - loss: 0.2878 - accuracy: 0.8847 - val_loss: 0.3721 - val_accuracy: 0.8423 - 352ms/epoch - 25ms/step\n",
            "Epoch 56/128\n",
            "14/14 - 0s - loss: 0.2938 - accuracy: 0.8757 - val_loss: 0.3922 - val_accuracy: 0.8214 - 341ms/epoch - 24ms/step\n",
            "Epoch 57/128\n",
            "14/14 - 0s - loss: 0.3032 - accuracy: 0.8661 - val_loss: 0.3779 - val_accuracy: 0.8304 - 335ms/epoch - 24ms/step\n",
            "Epoch 58/128\n",
            "14/14 - 0s - loss: 0.2729 - accuracy: 0.8854 - val_loss: 0.3818 - val_accuracy: 0.8304 - 316ms/epoch - 23ms/step\n",
            "Epoch 59/128\n",
            "14/14 - 0s - loss: 0.2701 - accuracy: 0.8906 - val_loss: 0.3808 - val_accuracy: 0.8274 - 301ms/epoch - 21ms/step\n",
            "Epoch 60/128\n",
            "14/14 - 0s - loss: 0.2581 - accuracy: 0.8996 - val_loss: 0.3672 - val_accuracy: 0.8601 - 491ms/epoch - 35ms/step\n",
            "Epoch 61/128\n",
            "14/14 - 0s - loss: 0.2845 - accuracy: 0.8750 - val_loss: 0.3631 - val_accuracy: 0.8542 - 496ms/epoch - 35ms/step\n",
            "Epoch 62/128\n",
            "14/14 - 1s - loss: 0.2753 - accuracy: 0.8854 - val_loss: 0.3660 - val_accuracy: 0.8542 - 540ms/epoch - 39ms/step\n",
            "Epoch 63/128\n",
            "14/14 - 1s - loss: 0.2624 - accuracy: 0.8951 - val_loss: 0.3574 - val_accuracy: 0.8512 - 534ms/epoch - 38ms/step\n",
            "Epoch 64/128\n",
            "14/14 - 1s - loss: 0.2549 - accuracy: 0.8921 - val_loss: 0.3562 - val_accuracy: 0.8571 - 522ms/epoch - 37ms/step\n",
            "Epoch 65/128\n",
            "14/14 - 0s - loss: 0.2516 - accuracy: 0.8988 - val_loss: 0.3559 - val_accuracy: 0.8631 - 394ms/epoch - 28ms/step\n",
            "Epoch 66/128\n",
            "14/14 - 0s - loss: 0.2541 - accuracy: 0.8891 - val_loss: 0.3658 - val_accuracy: 0.8363 - 304ms/epoch - 22ms/step\n",
            "Epoch 67/128\n",
            "14/14 - 0s - loss: 0.2718 - accuracy: 0.8988 - val_loss: 0.3681 - val_accuracy: 0.8274 - 303ms/epoch - 22ms/step\n",
            "Epoch 68/128\n",
            "14/14 - 0s - loss: 0.2874 - accuracy: 0.8787 - val_loss: 0.3867 - val_accuracy: 0.7976 - 339ms/epoch - 24ms/step\n",
            "Epoch 69/128\n",
            "14/14 - 0s - loss: 0.2479 - accuracy: 0.9010 - val_loss: 0.3865 - val_accuracy: 0.8036 - 301ms/epoch - 22ms/step\n",
            "Epoch 70/128\n",
            "14/14 - 0s - loss: 0.2473 - accuracy: 0.8914 - val_loss: 0.3741 - val_accuracy: 0.8185 - 299ms/epoch - 21ms/step\n",
            "Epoch 71/128\n",
            "14/14 - 0s - loss: 0.2670 - accuracy: 0.8787 - val_loss: 0.3814 - val_accuracy: 0.8036 - 353ms/epoch - 25ms/step\n",
            "Epoch 72/128\n",
            "14/14 - 0s - loss: 0.2647 - accuracy: 0.8914 - val_loss: 0.3650 - val_accuracy: 0.8244 - 307ms/epoch - 22ms/step\n",
            "Epoch 73/128\n",
            "14/14 - 0s - loss: 0.2336 - accuracy: 0.9092 - val_loss: 0.3879 - val_accuracy: 0.8006 - 346ms/epoch - 25ms/step\n",
            "Epoch 74/128\n",
            "14/14 - 0s - loss: 0.2234 - accuracy: 0.9129 - val_loss: 0.3679 - val_accuracy: 0.8125 - 320ms/epoch - 23ms/step\n",
            "Epoch 75/128\n",
            "14/14 - 0s - loss: 0.2330 - accuracy: 0.9077 - val_loss: 0.3488 - val_accuracy: 0.8542 - 304ms/epoch - 22ms/step\n",
            "Epoch 76/128\n",
            "14/14 - 0s - loss: 0.2272 - accuracy: 0.9062 - val_loss: 0.3838 - val_accuracy: 0.8036 - 305ms/epoch - 22ms/step\n",
            "Epoch 77/128\n",
            "14/14 - 0s - loss: 0.2313 - accuracy: 0.9122 - val_loss: 0.3534 - val_accuracy: 0.8542 - 351ms/epoch - 25ms/step\n",
            "Epoch 78/128\n",
            "14/14 - 0s - loss: 0.1954 - accuracy: 0.9226 - val_loss: 0.3385 - val_accuracy: 0.8661 - 342ms/epoch - 24ms/step\n",
            "Epoch 79/128\n",
            "14/14 - 0s - loss: 0.2411 - accuracy: 0.9048 - val_loss: 0.3622 - val_accuracy: 0.8363 - 318ms/epoch - 23ms/step\n",
            "Epoch 80/128\n",
            "14/14 - 0s - loss: 0.2122 - accuracy: 0.9196 - val_loss: 0.3450 - val_accuracy: 0.8601 - 364ms/epoch - 26ms/step\n",
            "Epoch 81/128\n",
            "14/14 - 0s - loss: 0.2053 - accuracy: 0.9167 - val_loss: 0.3408 - val_accuracy: 0.8601 - 294ms/epoch - 21ms/step\n",
            "Epoch 82/128\n",
            "14/14 - 0s - loss: 0.2104 - accuracy: 0.9159 - val_loss: 0.3355 - val_accuracy: 0.8631 - 301ms/epoch - 21ms/step\n",
            "Epoch 83/128\n",
            "14/14 - 0s - loss: 0.2183 - accuracy: 0.9129 - val_loss: 0.3433 - val_accuracy: 0.8512 - 309ms/epoch - 22ms/step\n",
            "Epoch 84/128\n",
            "14/14 - 0s - loss: 0.2243 - accuracy: 0.9062 - val_loss: 0.3887 - val_accuracy: 0.8214 - 305ms/epoch - 22ms/step\n",
            "Epoch 85/128\n",
            "14/14 - 0s - loss: 0.1908 - accuracy: 0.9211 - val_loss: 0.3514 - val_accuracy: 0.8363 - 307ms/epoch - 22ms/step\n",
            "Epoch 86/128\n",
            "14/14 - 0s - loss: 0.2105 - accuracy: 0.9062 - val_loss: 0.3743 - val_accuracy: 0.8304 - 346ms/epoch - 25ms/step\n",
            "Epoch 87/128\n",
            "14/14 - 0s - loss: 0.1861 - accuracy: 0.9256 - val_loss: 0.3418 - val_accuracy: 0.8571 - 304ms/epoch - 22ms/step\n",
            "Epoch 88/128\n",
            "14/14 - 0s - loss: 0.2046 - accuracy: 0.9196 - val_loss: 0.3379 - val_accuracy: 0.8690 - 301ms/epoch - 22ms/step\n",
            "Epoch 89/128\n",
            "14/14 - 0s - loss: 0.1960 - accuracy: 0.9122 - val_loss: 0.3386 - val_accuracy: 0.8690 - 308ms/epoch - 22ms/step\n",
            "Epoch 90/128\n",
            "14/14 - 0s - loss: 0.1801 - accuracy: 0.9271 - val_loss: 0.3346 - val_accuracy: 0.8601 - 310ms/epoch - 22ms/step\n",
            "Epoch 91/128\n",
            "14/14 - 0s - loss: 0.1836 - accuracy: 0.9226 - val_loss: 0.3311 - val_accuracy: 0.8601 - 356ms/epoch - 25ms/step\n",
            "Epoch 92/128\n",
            "14/14 - 0s - loss: 0.1764 - accuracy: 0.9249 - val_loss: 0.3435 - val_accuracy: 0.8631 - 335ms/epoch - 24ms/step\n",
            "Epoch 93/128\n",
            "14/14 - 0s - loss: 0.1942 - accuracy: 0.9219 - val_loss: 0.3292 - val_accuracy: 0.8661 - 314ms/epoch - 22ms/step\n",
            "Epoch 94/128\n",
            "14/14 - 0s - loss: 0.1835 - accuracy: 0.9226 - val_loss: 0.3305 - val_accuracy: 0.8542 - 306ms/epoch - 22ms/step\n",
            "Epoch 95/128\n",
            "14/14 - 0s - loss: 0.1887 - accuracy: 0.9293 - val_loss: 0.3341 - val_accuracy: 0.8571 - 296ms/epoch - 21ms/step\n",
            "Epoch 96/128\n",
            "14/14 - 0s - loss: 0.1739 - accuracy: 0.9249 - val_loss: 0.3340 - val_accuracy: 0.8601 - 485ms/epoch - 35ms/step\n",
            "Epoch 97/128\n",
            "14/14 - 1s - loss: 0.1866 - accuracy: 0.9278 - val_loss: 0.3260 - val_accuracy: 0.8571 - 521ms/epoch - 37ms/step\n",
            "Epoch 98/128\n",
            "14/14 - 1s - loss: 0.1974 - accuracy: 0.9174 - val_loss: 0.3311 - val_accuracy: 0.8571 - 509ms/epoch - 36ms/step\n",
            "Epoch 99/128\n",
            "14/14 - 1s - loss: 0.2009 - accuracy: 0.9211 - val_loss: 0.3246 - val_accuracy: 0.8720 - 525ms/epoch - 37ms/step\n",
            "Epoch 100/128\n",
            "14/14 - 1s - loss: 0.1767 - accuracy: 0.9330 - val_loss: 0.3222 - val_accuracy: 0.8661 - 542ms/epoch - 39ms/step\n",
            "Epoch 101/128\n",
            "14/14 - 0s - loss: 0.1761 - accuracy: 0.9390 - val_loss: 0.3738 - val_accuracy: 0.8304 - 347ms/epoch - 25ms/step\n",
            "Epoch 102/128\n",
            "14/14 - 0s - loss: 0.1756 - accuracy: 0.9345 - val_loss: 0.3256 - val_accuracy: 0.8690 - 343ms/epoch - 24ms/step\n",
            "Epoch 103/128\n",
            "14/14 - 0s - loss: 0.1588 - accuracy: 0.9360 - val_loss: 0.3350 - val_accuracy: 0.8542 - 313ms/epoch - 22ms/step\n",
            "Epoch 104/128\n",
            "14/14 - 0s - loss: 0.1853 - accuracy: 0.9234 - val_loss: 0.3237 - val_accuracy: 0.8601 - 300ms/epoch - 21ms/step\n",
            "Epoch 105/128\n",
            "14/14 - 0s - loss: 0.1902 - accuracy: 0.9338 - val_loss: 0.3210 - val_accuracy: 0.8542 - 304ms/epoch - 22ms/step\n",
            "Epoch 106/128\n",
            "14/14 - 0s - loss: 0.1846 - accuracy: 0.9278 - val_loss: 0.3213 - val_accuracy: 0.8542 - 301ms/epoch - 21ms/step\n",
            "Epoch 107/128\n",
            "14/14 - 0s - loss: 0.1517 - accuracy: 0.9405 - val_loss: 0.3171 - val_accuracy: 0.8661 - 296ms/epoch - 21ms/step\n",
            "Epoch 108/128\n",
            "14/14 - 0s - loss: 0.1696 - accuracy: 0.9278 - val_loss: 0.3210 - val_accuracy: 0.8661 - 296ms/epoch - 21ms/step\n",
            "Epoch 109/128\n",
            "14/14 - 0s - loss: 0.1813 - accuracy: 0.9278 - val_loss: 0.3201 - val_accuracy: 0.8601 - 308ms/epoch - 22ms/step\n",
            "Epoch 110/128\n",
            "14/14 - 0s - loss: 0.1628 - accuracy: 0.9375 - val_loss: 0.3275 - val_accuracy: 0.8631 - 298ms/epoch - 21ms/step\n",
            "Epoch 111/128\n",
            "14/14 - 0s - loss: 0.1404 - accuracy: 0.9457 - val_loss: 0.3384 - val_accuracy: 0.8631 - 336ms/epoch - 24ms/step\n",
            "Epoch 112/128\n",
            "14/14 - 0s - loss: 0.1900 - accuracy: 0.9226 - val_loss: 0.3287 - val_accuracy: 0.8631 - 305ms/epoch - 22ms/step\n",
            "Epoch 113/128\n",
            "14/14 - 0s - loss: 0.1714 - accuracy: 0.9368 - val_loss: 0.3303 - val_accuracy: 0.8631 - 336ms/epoch - 24ms/step\n",
            "Epoch 114/128\n",
            "14/14 - 0s - loss: 0.1374 - accuracy: 0.9435 - val_loss: 0.3310 - val_accuracy: 0.8542 - 342ms/epoch - 24ms/step\n",
            "Epoch 115/128\n",
            "14/14 - 0s - loss: 0.1683 - accuracy: 0.9323 - val_loss: 0.3275 - val_accuracy: 0.8542 - 306ms/epoch - 22ms/step\n",
            "Epoch 116/128\n",
            "14/14 - 0s - loss: 0.1274 - accuracy: 0.9501 - val_loss: 0.3406 - val_accuracy: 0.8482 - 300ms/epoch - 21ms/step\n",
            "Epoch 117/128\n",
            "14/14 - 0s - loss: 0.1194 - accuracy: 0.9509 - val_loss: 0.3820 - val_accuracy: 0.8423 - 306ms/epoch - 22ms/step\n"
          ]
        },
        {
          "output_type": "execute_result",
          "data": {
            "text/plain": [
              "<keras.callbacks.History at 0x7f9c2d255760>"
            ]
          },
          "metadata": {},
          "execution_count": 81
        }
      ]
    },
    {
      "cell_type": "markdown",
      "metadata": {
        "id": "0omw2XzSHwOo"
      },
      "source": [
        "## Evaluation on test data\n",
        "Evaluate the model on the test data in terms of loss and accuracy."
      ]
    },
    {
      "cell_type": "code",
      "metadata": {
        "id": "4bF3dQA1Hv_R",
        "colab": {
          "base_uri": "https://localhost:8080/"
        },
        "outputId": "6f58a609-9129-4ecd-d37c-b7e769bd1794"
      },
      "source": [
        "eval = model.evaluate(X_test,Y_test)\n",
        "print(\"Test loss:\",eval[0])\n",
        "print(\"Test accuracy:\",eval[1])"
      ],
      "execution_count": 82,
      "outputs": [
        {
          "output_type": "stream",
          "name": "stdout",
          "text": [
            "23/23 [==============================] - 0s 6ms/step - loss: 0.3762 - accuracy: 0.8278\n",
            "Test loss: 0.37618881464004517\n",
            "Test accuracy: 0.8277778029441833\n"
          ]
        }
      ]
    },
    {
      "cell_type": "markdown",
      "metadata": {
        "id": "4Y73Q-h5Hz1r"
      },
      "source": [
        "## Confusion matrix\n",
        "Calculate and display the confusion matrix."
      ]
    },
    {
      "cell_type": "code",
      "metadata": {
        "id": "cW8zZi1uJm2B",
        "colab": {
          "base_uri": "https://localhost:8080/",
          "height": 626
        },
        "outputId": "668bb256-32f2-4233-b3c5-67e1415b2940"
      },
      "source": [
        "from sklearn.metrics import confusion_matrix, classification_report\n",
        "preds = model.predict(X_test)\n",
        "print(classification_report(np.argmax(Y_test,1),np.argmax(preds,1)))\n",
        "conf=confusion_matrix(np.argmax(Y_test,1),np.argmax(preds,1))\n",
        "sns.heatmap(conf, annot=True, fmt='d', vmax=100)"
      ],
      "execution_count": 83,
      "outputs": [
        {
          "output_type": "stream",
          "name": "stdout",
          "text": [
            "23/23 [==============================] - 0s 4ms/step\n",
            "              precision    recall  f1-score   support\n",
            "\n",
            "           0       0.87      0.77      0.82       360\n",
            "           1       0.79      0.89      0.84       360\n",
            "\n",
            "    accuracy                           0.83       720\n",
            "   macro avg       0.83      0.83      0.83       720\n",
            "weighted avg       0.83      0.83      0.83       720\n",
            "\n"
          ]
        },
        {
          "output_type": "execute_result",
          "data": {
            "text/plain": [
              "<Axes: >"
            ]
          },
          "metadata": {},
          "execution_count": 83
        },
        {
          "output_type": "display_data",
          "data": {
            "text/plain": [
              "<Figure size 640x480 with 2 Axes>"
            ],
            "image/png": "[encoded data removed]"
          },
          "metadata": {}
        }
      ]
    }
  ]
}